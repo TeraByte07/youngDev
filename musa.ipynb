{
 "cells": [
  {
   "cell_type": "markdown",
   "metadata": {},
   "source": [
    "# MAD LIBS GAME"
   ]
  },
  {
   "cell_type": "code",
   "execution_count": 11,
   "metadata": {},
   "outputs": [
    {
     "name": "stdout",
     "output_type": "stream",
     "text": [
      "enter color: red\n",
      "enter color: yellow\n",
      "enter celebrity name: BigWiz\n"
     ]
    }
   ],
   "source": [
    "roses = input('enter color: ')\n",
    "hibiscus = input('enter color: ')\n",
    "celebrity = input('enter celebrity name: ')"
   ]
  },
  {
   "cell_type": "code",
   "execution_count": 12,
   "metadata": {},
   "outputs": [
    {
     "name": "stdout",
     "output_type": "stream",
     "text": [
      "Roses are red\n",
      "Hibiscus are yellow\n",
      "My favorite celebrity is BigWiz\n"
     ]
    }
   ],
   "source": [
    "print('Roses are '+ roses+'\\nHibiscus are '+ hibiscus+'\\nMy favorite celebrity is',celebrity)"
   ]
  },
  {
   "cell_type": "markdown",
   "metadata": {},
   "source": [
    "# GUESS THE NUMBER GAME(COMPUTER)"
   ]
  },
  {
   "cell_type": "code",
   "execution_count": 2,
   "metadata": {},
   "outputs": [],
   "source": [
    "import numpy as np\n",
    "from numpy import random"
   ]
  },
  {
   "cell_type": "code",
   "execution_count": 56,
   "metadata": {},
   "outputs": [],
   "source": [
    "luckyNum = random.randint(1,10)"
   ]
  },
  {
   "cell_type": "code",
   "execution_count": 57,
   "metadata": {},
   "outputs": [],
   "source": [
    "comNum = random.randint(1,10)\n",
    "\n",
    "message = ['The computer is right','Wow,so lucky to have gotten it right at first try','First try and was correct']\n",
    "message2 = ['The com got it right this time.','The second guess wasnt bad','OOOkaaaayyyyy']\n",
    "message3 =['Got it this time','Narrow escape']\n",
    "fail = ['Failed to guess the number within the three trials','No luck,try again']"
   ]
  },
  {
   "cell_type": "code",
   "execution_count": 58,
   "metadata": {},
   "outputs": [
    {
     "name": "stdout",
     "output_type": "stream",
     "text": [
      "Failed to guess the number within the three trials\n",
      "The first choice of the computer is  2\n",
      "The second choice of the computer is  2\n",
      "The third choice of the computer is  1\n",
      "The lucky number is  6\n"
     ]
    }
   ],
   "source": [
    "if comNum == luckyNum:\n",
    "    print(random.choice(message))\n",
    "    print('The first choice of the computer is ',comNum)\n",
    "else:\n",
    "    comNum2 = random.randint(1,10)\n",
    "    if comNum2 == luckyNum:\n",
    "        print(random.choice(message2))\n",
    "        print('The first choice of the computer is ',comNum)\n",
    "        print('The second choice of the computer is ',comNum2)\n",
    "    else:\n",
    "        comNum3 = random.randint(1,10)\n",
    "        if comNum3 == luckyNum:\n",
    "            print(random.choice(message3))\n",
    "        else:\n",
    "            print(random.choice(fail))\n",
    "            print('The first choice of the computer is ',comNum)\n",
    "            print('The second choice of the computer is ',comNum2)\n",
    "            print('The third choice of the computer is ',comNum3)\n",
    "\n",
    "print('The lucky number is ',luckyNum)"
   ]
  },
  {
   "cell_type": "markdown",
   "metadata": {},
   "source": [
    "# GUESS THE NUMBER (USER)"
   ]
  },
  {
   "cell_type": "code",
   "execution_count": 63,
   "metadata": {},
   "outputs": [
    {
     "data": {
      "text/plain": [
       "array([4, 8])"
      ]
     },
     "execution_count": 63,
     "metadata": {},
     "output_type": "execute_result"
    }
   ],
   "source": [
    "lucky_num = np.random.randint(1,10,2)\n",
    "lucky_num"
   ]
  },
  {
   "cell_type": "code",
   "execution_count": 64,
   "metadata": {},
   "outputs": [
    {
     "name": "stdout",
     "output_type": "stream",
     "text": [
      "5\n",
      "6\n"
     ]
    }
   ],
   "source": [
    "user = np.array([int(input()),int(input())])\n",
    "user\n",
    "\n",
    "pos_reply = ['The user is right','Wow,so lucky to have gotten it right at first try','First try and was correct']\n",
    "pos_reply2 = ['The user got it right this time.','The second guess wasnt bad','OOOkaaaayyyyy']\n",
    "pos_reply3 =['Got it this time','Narrow escape']\n",
    "neg_reply = ['Failed to guess the number within the three trials','No luck,try again']"
   ]
  },
  {
   "cell_type": "code",
   "execution_count": 65,
   "metadata": {},
   "outputs": [
    {
     "name": "stdout",
     "output_type": "stream",
     "text": [
      "7\n",
      "8\n",
      "4\n",
      "8\n",
      "Narrow escape\n",
      "The lucky number is  [4 8]\n"
     ]
    }
   ],
   "source": [
    "if user[0] == lucky_num[0] and user[1] == lucky_num[1]:\n",
    "    print(random.choice(pos_reply))\n",
    "    print('The first choice of the computer is ',user)\n",
    "else:\n",
    "    user2 = np.array([int(input()),int(input())])\n",
    "    if user2[0] == lucky_num[0] and user2[1] == lucky_num[1]:\n",
    "        print(random.choice(pos_reply2))\n",
    "        print('The first choice of the computer is ',user)\n",
    "        print('The second choice of the computer is ',user2)\n",
    "    else:\n",
    "        user3 = np.array([int(input()),int(input())])\n",
    "        if user3[0] == lucky_num[0] and user3[1] == lucky_num[1]:\n",
    "            print(random.choice(pos_reply3))\n",
    "        else:\n",
    "            print(random.choice(neg_reply))\n",
    "            print('The first choice of the computer is ',user)\n",
    "            print('The second choice of the computer is ',user2)\n",
    "            print('The third choice of the computer is ',user3)\n",
    "print('The lucky number is ',lucky_num)"
   ]
  },
  {
   "cell_type": "markdown",
   "metadata": {},
   "source": [
    "# ROCK PAPER SCISSORS"
   ]
  },
  {
   "cell_type": "code",
   "execution_count": 67,
   "metadata": {},
   "outputs": [],
   "source": [
    "#rock beats scissors\n",
    "#scissors beats paper\n",
    "#paper beats rock"
   ]
  },
  {
   "cell_type": "code",
   "execution_count": 5,
   "metadata": {},
   "outputs": [
    {
     "name": "stdout",
     "output_type": "stream",
     "text": [
      "Enter your name: musa\n",
      "Rock Paper or Scissors: paper\n",
      "It is a tie...No one one\n"
     ]
    }
   ],
   "source": [
    "username = input('Enter your name: ')\n",
    "\n",
    "def game():\n",
    "    user = input('Rock Paper or Scissors: ')\n",
    "    com = random.choice(['rock','scissors','paper'])\n",
    "    if com == user:\n",
    "        print('It is a tie...No one won')\n",
    "    elif user == 'scissors':\n",
    "        if com == 'paper':\n",
    "            print('Scissors cuts paper,',username.capitalize(),'won')\n",
    "        else:\n",
    "            print('Rock smashes scissors,Com won',username,'lose!')\n",
    "    elif user == 'rock':\n",
    "        if com == 'scissors':\n",
    "            print('Rock smashes scissors..',username,'wins!')\n",
    "        else:\n",
    "            print('Paper covers rock',username,'lose..')\n",
    "    elif user == 'paper':\n",
    "        if com == 'rock':\n",
    "            print('Paper covers rock,',username,'wins!!!')\n",
    "        else:\n",
    "            print('Scissors cuts paper',username,'loose!!!!!')\n",
    "game()"
   ]
  },
  {
   "cell_type": "markdown",
   "metadata": {},
   "source": [
    "# HANGMAN"
   ]
  },
  {
   "cell_type": "code",
   "execution_count": 113,
   "metadata": {},
   "outputs": [
    {
     "name": "stdout",
     "output_type": "stream",
     "text": [
      "_ _ _ \n",
      "Allowed Errors left 10, Next guess: e\n",
      "_ _ _ \n",
      "Allowed Errors left 9, Next guess: j\n",
      "_ _ _ \n",
      "Allowed Errors left 8, Next guess: u\n",
      "_ _ _ \n",
      "Allowed Errors left 7, Next guess: c\n",
      "C _ _ \n",
      "Allowed Errors left 7, Next guess: a\n",
      "C a _ \n",
      "Allowed Errors left 7, Next guess: r\n",
      "You found the word! The secret word was Car\n"
     ]
    }
   ],
   "source": [
    "word = random.choice(['Secret','Car','House','Umbrella','Python','Javascript'])\n",
    "allowed_errors = 10\n",
    "guesses = []\n",
    "done = False\n",
    "\n",
    "while not done:\n",
    "    for letter in word:\n",
    "        if letter.lower() in guesses:\n",
    "            print(letter,end = ' ')\n",
    "        else:\n",
    "            print('_',end = ' ')\n",
    "    print('')\n",
    "    done = True\n",
    "    \n",
    "    guess = input(f'Allowed Errors left {allowed_errors}, Next guess: ')\n",
    "    guesses.append(guess.lower())\n",
    "    \n",
    "    if guess.lower() not in word.lower():\n",
    "        allowed_errors -= 1\n",
    "        if allowed_errors == 0:\n",
    "            break\n",
    "    done = True\n",
    "    for letter in word:\n",
    "        if letter.lower() not in guesses:\n",
    "            done = False\n",
    "\n",
    "if done:\n",
    "    print(f'You found the word! The secret word was {word}')\n",
    "else:\n",
    "    print(f'Game Over!! The secret word was {word}')"
   ]
  },
  {
   "cell_type": "code",
   "execution_count": null,
   "metadata": {},
   "outputs": [],
   "source": [
    "if user == com:\n",
    "    print('It\\'s a tie')\n",
    "elif user == 'rock':\n",
    "    if com == 'scissors':\n",
    "        print('Rock smashes scissors....You win')\n",
    "    else:\n",
    "        print('Paper covers rock,You lose')\n",
    "elif user == 'paper':\n",
    "    if com == 'rock':\n",
    "        print('Paper covers rock...You win.')\n",
    "    else:\n",
    "        print('Scissors cuts paper..You loose!')\n",
    "elif user == 'scissors':\n",
    "    if com == 'paper':\n",
    "        print('Scissors cuts paper...You win...')\n",
    "    else:\n",
    "        print('Rock smashes paper,You lose')"
   ]
  }
 ],
 "metadata": {
  "kernelspec": {
   "display_name": "Python 3.8.5 64-bit ('base': conda)",
   "language": "python",
   "name": "python385jvsc74a57bd088a8c6c12fd18c9ea31f02c3edde081b1d7b9afc1df3cb9771725749b1e9230f"
  },
  "language_info": {
   "codemirror_mode": {
    "name": "ipython",
    "version": 3
   },
   "file_extension": ".py",
   "mimetype": "text/x-python",
   "name": "python",
   "nbconvert_exporter": "python",
   "pygments_lexer": "ipython3",
   "version": "3.8.5"
  }
 },
 "nbformat": 4,
 "nbformat_minor": 4
}
